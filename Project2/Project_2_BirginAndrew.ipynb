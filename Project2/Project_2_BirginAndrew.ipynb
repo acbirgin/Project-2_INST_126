{
 "cells": [
  {
   "cell_type": "code",
   "execution_count": 1,
   "metadata": {},
   "outputs": [],
   "source": [
    "#Implementation of the Hangman Game\n",
    "import random #Used in order to call the random.() operation.\n",
    "def chooseRandomWord():\n",
    "    words = [\"WHDSPQZ\" ,\"XHO\", \"TTDBFRT\", \"QQJYF\", \"ENQD\", \"DNPK\", \"CNTR\", \"EHWHOD\", \"TSVMOHOF\", \"XNOCFQGTM\"]\n",
    "    ranNum = random.randint(0, len(words)-1) #assgins the variable ranNum to randomize the value of the list variable \"words\"\n",
    "    ranWord = words[ranNum] #ranWord is used to apply randomization to the list of the variable \"words.\"\n",
    "    attempts = 0 #initiate a starting position.\n",
    "    max_attempts = 10 #max_attempts gives the max amount of incorrect attempts that are allowed in a given turn.\n",
    "\n",
    "    temp = [] #setting \"temp\" variable to an empty list to begin with.\n",
    "    for j in ranWord:  \n",
    "        temp.append(j) #adds the value in ranWord to the end of the list sequence.\n",
    "    #print(temp) - If this value were assigned, it would print the selected random list position where the functions are called at the end of the code\n",
    "    while attempts <= max_attempts: #while loop for limiting max incorrect attempts to 10.\n",
    "        if len(temp) == 0:\n",
    "            break #ends the loop when attempts are maximized or word is guessed correctly.\n",
    "\n",
    "        guess = input(\"Enter a letter you'd like to guess: \") #user input value - where the user guesses letters in the word.\n",
    "        if guess.upper() in temp: #.upper operation used so the code doesn't read a correct lowercase guess as a false negative.\n",
    "            index = temp.index(guess.upper()) #index variable introduced to  return the index value of the letter guessed.\n",
    "            guess_letter = temp.pop(index) #.pop removes the value guessed so there isn't any unnecessary repetition.\n",
    "\n",
    "            print(f\"Congrats! {guess_letter} is in the word. You guessed correctly.\")\n",
    "        else:\n",
    "            print(f\"Sorry! That letter isn't in the word. Try again!\")\n",
    "            attempts += 1 #incrememt of 1 every time the user guesses (on a scale from 1 to 10 for incorrect guesses).\n",
    "\n",
    "    return ranWord\n",
    "    "
   ]
  },
  {
   "cell_type": "code",
   "execution_count": 2,
   "metadata": {},
   "outputs": [],
   "source": [
    "def encrypt(plaintext): #plaintext is the argument in the encryption function.\n",
    "    ciphertext = \"\" #ciphertext variable sets a blank string value to return.\n",
    "    i = 0 #not necessary here, just used as a visual aid.\n",
    "    for i in range (0, len(plaintext)): \n",
    "        if i % 2 == 0: #Index position for the char of the word.\n",
    "            plain_ascii = plaintext[i]\n",
    "            cipher_ascii = ord(plain_ascii) + 1 #adds one index position if even\n",
    "            ciphertext = ciphertext + str(chr(cipher_ascii))\n",
    "        else: #Takes the previous letter\n",
    "            plain_ascii = plaintext[i]\n",
    "            chipher_ascii = ord(plain_ascii) - 1 #subtracts 1 index position if odd\n",
    "            ciphertext = ciphertext + str(chr(cipher_ascii))\n",
    "                \n",
    "    return ciphertext\n",
    "  "
   ]
  },
  {
   "cell_type": "code",
   "execution_count": 3,
   "metadata": {},
   "outputs": [],
   "source": [
    "def decrypt(ciphertext):\n",
    "    plaintext = \"\"\n",
    "    for i in range (0, len(ciphertext)):\n",
    "        if i % 2 == 0:\n",
    "            plain_ascii = ciphertext[i]\n",
    "            cipher_ascii = ord(plain_ascii)- 1\n",
    "            plaintext = plaintext + str(chr(cipher_ascii))\n",
    "        else: \n",
    "            plain_ascii = ciphertext[i]\n",
    "            cipher_ascii = ord(plain_ascii)+1\n",
    "            plaintext = plaintext + str(chr(cipher_ascii))\n",
    "\n",
    "    return plaintext"
   ]
  },
  {
   "cell_type": "code",
   "execution_count": 4,
   "metadata": {},
   "outputs": [
    {
     "name": "stdout",
     "output_type": "stream",
     "text": [
      "Enter a letter you'd like to guess: w\n",
      "Sorry! That letter isn't in the word. Try again!\n",
      "Enter a letter you'd like to guess: x\n",
      "Sorry! That letter isn't in the word. Try again!\n",
      "Enter a letter you'd like to guess: t\n",
      "Congrats! T is in the word. You guessed correctly.\n",
      "Enter a letter you'd like to guess: t\n",
      "Sorry! That letter isn't in the word. Try again!\n",
      "Enter a letter you'd like to guess: n\n",
      "Sorry! That letter isn't in the word. Try again!\n",
      "Enter a letter you'd like to guess: v\n",
      "Congrats! V is in the word. You guessed correctly.\n",
      "Enter a letter you'd like to guess: s\n",
      "Congrats! S is in the word. You guessed correctly.\n",
      "Enter a letter you'd like to guess: t\n",
      "Sorry! That letter isn't in the word. Try again!\n",
      "Enter a letter you'd like to guess: o\n",
      "Congrats! O is in the word. You guessed correctly.\n",
      "Enter a letter you'd like to guess: o\n",
      "Congrats! O is in the word. You guessed correctly.\n",
      "Enter a letter you'd like to guess: f\n",
      "Congrats! F is in the word. You guessed correctly.\n",
      "Enter a letter you'd like to guess: h\n",
      "Congrats! H is in the word. You guessed correctly.\n",
      "Enter a letter you'd like to guess: t\n",
      "Sorry! That letter isn't in the word. Try again!\n",
      "Enter a letter you'd like to guess: s\n",
      "Sorry! That letter isn't in the word. Try again!\n",
      "Enter a letter you'd like to guess: m\n",
      "Congrats! M is in the word. You guessed correctly.\n"
     ]
    },
    {
     "data": {
      "text/plain": [
       "'STUNNING'"
      ]
     },
     "execution_count": 4,
     "metadata": {},
     "output_type": "execute_result"
    }
   ],
   "source": [
    "ranWord = chooseRandomWord()\n",
    "encrypt(ranWord)\n",
    "decrypt(ranWord)"
   ]
  },
  {
   "cell_type": "code",
   "execution_count": null,
   "metadata": {},
   "outputs": [],
   "source": []
  },
  {
   "cell_type": "code",
   "execution_count": null,
   "metadata": {},
   "outputs": [],
   "source": []
  }
 ],
 "metadata": {
  "kernelspec": {
   "display_name": "Python 3",
   "language": "python",
   "name": "python3"
  },
  "language_info": {
   "codemirror_mode": {
    "name": "ipython",
    "version": 3
   },
   "file_extension": ".py",
   "mimetype": "text/x-python",
   "name": "python",
   "nbconvert_exporter": "python",
   "pygments_lexer": "ipython3",
   "version": "3.8.5"
  }
 },
 "nbformat": 4,
 "nbformat_minor": 4
}
